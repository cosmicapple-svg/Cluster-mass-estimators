{
 "cells": [
  {
   "cell_type": "code",
   "execution_count": 4,
   "id": "2508f126",
   "metadata": {},
   "outputs": [],
   "source": [
    "import numpy as np\n",
    "import pandas as pd\n",
    "from Estimadores import *"
   ]
  },
  {
   "cell_type": "code",
   "execution_count": 5,
   "id": "c9579749",
   "metadata": {},
   "outputs": [],
   "source": [
    "def Distancia(z):\n",
    "    h0 = 0.71\n",
    "    #Del Carroll p.1071\n",
    "    H0 = h0*3.24*10**(-18)\n",
    "    DH = (299792458)/H0\n",
    "    return z*DH\n",
    "    "
   ]
  },
  {
   "cell_type": "code",
   "execution_count": 6,
   "id": "5dd6cb89",
   "metadata": {},
   "outputs": [
    {
     "data": {
      "text/plain": [
       "190.03514914648107"
      ]
     },
     "execution_count": 6,
     "metadata": {},
     "output_type": "execute_result"
    }
   ],
   "source": [
    "dirr = \"Datos\\A168_dccoutcut.csv\"\n",
    "d = Distancia(0.0450)\n",
    "d/(3.086*10**(22))\n"
   ]
  },
  {
   "cell_type": "code",
   "execution_count": 7,
   "id": "d1220bb8",
   "metadata": {},
   "outputs": [
    {
     "name": "stdout",
     "output_type": "stream",
     "text": [
      "MASA VIRIAL (kg):  2.046222721788872e+25\n",
      "En masas solares\n",
      "Masa: 1.0287178733039425e-05 M⊙\n",
      "MASA MEDIANA (kg):  []\n",
      "En masas solares\n",
      "Masa: [] M⊙\n",
      "MASA PROYECTADA (kg):  7.63705667241929e+47\n",
      "En masas solares\n",
      "Masa: 3.839453357005324e+17 M⊙\n",
      "MASA PROMEDIO (kg):  1.1489612871926087e+45\n",
      "En masas solares\n",
      "Masa: 577628720120963.6 M⊙\n"
     ]
    }
   ],
   "source": [
    "EstimadorVirial(dirr, 193.18)\n",
    "EstimadorMediana(dirr, d)\n",
    "EstimadorProyectada(dirr, d)\n",
    "EstimadorPromedio(dirr, d)"
   ]
  }
 ],
 "metadata": {
  "kernelspec": {
   "display_name": "Python 3 (ipykernel)",
   "language": "python",
   "name": "python3"
  },
  "language_info": {
   "codemirror_mode": {
    "name": "ipython",
    "version": 3
   },
   "file_extension": ".py",
   "mimetype": "text/x-python",
   "name": "python",
   "nbconvert_exporter": "python",
   "pygments_lexer": "ipython3",
   "version": "3.10.4"
  }
 },
 "nbformat": 4,
 "nbformat_minor": 5
}
