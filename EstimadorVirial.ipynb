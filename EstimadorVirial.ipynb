{
 "cells": [
  {
   "cell_type": "markdown",
   "id": "8872ab4d",
   "metadata": {},
   "source": [
    "# Estimador por masa virial"
   ]
  },
  {
   "cell_type": "code",
   "execution_count": 18,
   "id": "5a976343",
   "metadata": {},
   "outputs": [],
   "source": [
    "import numpy as np\n",
    "import pandas as pd"
   ]
  },
  {
   "cell_type": "code",
   "execution_count": 19,
   "id": "c3c937ca",
   "metadata": {},
   "outputs": [],
   "source": [
    "dirr = 'Datos\\A2255_dccoutcut.csv'\n",
    "D = 3.281618e24\n",
    "G = 6.67259e-11\n",
    "MS = 1.9891e30"
   ]
  },
  {
   "cell_type": "code",
   "execution_count": 20,
   "id": "7a402c62",
   "metadata": {
    "scrolled": false
   },
   "outputs": [
    {
     "data": {
      "text/html": [
       "<div>\n",
       "<style scoped>\n",
       "    .dataframe tbody tr th:only-of-type {\n",
       "        vertical-align: middle;\n",
       "    }\n",
       "\n",
       "    .dataframe tbody tr th {\n",
       "        vertical-align: top;\n",
       "    }\n",
       "\n",
       "    .dataframe thead th {\n",
       "        text-align: right;\n",
       "    }\n",
       "</style>\n",
       "<table border=\"1\" class=\"dataframe\">\n",
       "  <thead>\n",
       "    <tr style=\"text-align: right;\">\n",
       "      <th></th>\n",
       "      <th>ra</th>\n",
       "      <th>dec</th>\n",
       "      <th>vel</th>\n",
       "      <th>evel</th>\n",
       "      <th>dist</th>\n",
       "      <th>dvel</th>\n",
       "    </tr>\n",
       "  </thead>\n",
       "  <tbody>\n",
       "    <tr>\n",
       "      <th>0</th>\n",
       "      <td>258.730125</td>\n",
       "      <td>63.857954</td>\n",
       "      <td>22451.5</td>\n",
       "      <td>10.99510</td>\n",
       "      <td>1.53</td>\n",
       "      <td>-1578.5</td>\n",
       "    </tr>\n",
       "    <tr>\n",
       "      <th>1</th>\n",
       "      <td>258.712174</td>\n",
       "      <td>64.010175</td>\n",
       "      <td>24621.2</td>\n",
       "      <td>5.47387</td>\n",
       "      <td>1.39</td>\n",
       "      <td>591.2</td>\n",
       "    </tr>\n",
       "    <tr>\n",
       "      <th>2</th>\n",
       "      <td>258.750503</td>\n",
       "      <td>64.168843</td>\n",
       "      <td>24003.5</td>\n",
       "      <td>8.65959</td>\n",
       "      <td>1.48</td>\n",
       "      <td>-26.5</td>\n",
       "    </tr>\n",
       "    <tr>\n",
       "      <th>3</th>\n",
       "      <td>258.692810</td>\n",
       "      <td>64.144804</td>\n",
       "      <td>23227.7</td>\n",
       "      <td>4.45424</td>\n",
       "      <td>1.34</td>\n",
       "      <td>-802.3</td>\n",
       "    </tr>\n",
       "    <tr>\n",
       "      <th>4</th>\n",
       "      <td>258.870550</td>\n",
       "      <td>63.892904</td>\n",
       "      <td>23958.3</td>\n",
       "      <td>8.05739</td>\n",
       "      <td>1.82</td>\n",
       "      <td>-71.7</td>\n",
       "    </tr>\n",
       "    <tr>\n",
       "      <th>...</th>\n",
       "      <td>...</td>\n",
       "      <td>...</td>\n",
       "      <td>...</td>\n",
       "      <td>...</td>\n",
       "      <td>...</td>\n",
       "      <td>...</td>\n",
       "    </tr>\n",
       "    <tr>\n",
       "      <th>147</th>\n",
       "      <td>258.771000</td>\n",
       "      <td>64.045063</td>\n",
       "      <td>24176.5</td>\n",
       "      <td>7.13205</td>\n",
       "      <td>1.52</td>\n",
       "      <td>146.5</td>\n",
       "    </tr>\n",
       "    <tr>\n",
       "      <th>148</th>\n",
       "      <td>258.527011</td>\n",
       "      <td>63.790837</td>\n",
       "      <td>22699.3</td>\n",
       "      <td>11.23490</td>\n",
       "      <td>1.18</td>\n",
       "      <td>-1330.7</td>\n",
       "    </tr>\n",
       "    <tr>\n",
       "      <th>149</th>\n",
       "      <td>258.425438</td>\n",
       "      <td>63.779506</td>\n",
       "      <td>24519.9</td>\n",
       "      <td>6.24049</td>\n",
       "      <td>1.02</td>\n",
       "      <td>489.9</td>\n",
       "    </tr>\n",
       "    <tr>\n",
       "      <th>150</th>\n",
       "      <td>258.405275</td>\n",
       "      <td>63.830808</td>\n",
       "      <td>25800.0</td>\n",
       "      <td>6.34327</td>\n",
       "      <td>0.90</td>\n",
       "      <td>1770.0</td>\n",
       "    </tr>\n",
       "    <tr>\n",
       "      <th>151</th>\n",
       "      <td>258.461872</td>\n",
       "      <td>63.747532</td>\n",
       "      <td>23455.0</td>\n",
       "      <td>8.00442</td>\n",
       "      <td>1.13</td>\n",
       "      <td>-575.0</td>\n",
       "    </tr>\n",
       "  </tbody>\n",
       "</table>\n",
       "<p>152 rows × 6 columns</p>\n",
       "</div>"
      ],
      "text/plain": [
       "             ra        dec      vel      evel  dist    dvel\n",
       "0    258.730125  63.857954  22451.5  10.99510  1.53 -1578.5\n",
       "1    258.712174  64.010175  24621.2   5.47387  1.39   591.2\n",
       "2    258.750503  64.168843  24003.5   8.65959  1.48   -26.5\n",
       "3    258.692810  64.144804  23227.7   4.45424  1.34  -802.3\n",
       "4    258.870550  63.892904  23958.3   8.05739  1.82   -71.7\n",
       "..          ...        ...      ...       ...   ...     ...\n",
       "147  258.771000  64.045063  24176.5   7.13205  1.52   146.5\n",
       "148  258.527011  63.790837  22699.3  11.23490  1.18 -1330.7\n",
       "149  258.425438  63.779506  24519.9   6.24049  1.02   489.9\n",
       "150  258.405275  63.830808  25800.0   6.34327  0.90  1770.0\n",
       "151  258.461872  63.747532  23455.0   8.00442  1.13  -575.0\n",
       "\n",
       "[152 rows x 6 columns]"
      ]
     },
     "execution_count": 20,
     "metadata": {},
     "output_type": "execute_result"
    }
   ],
   "source": [
    "data = pd.read_csv(dirr)\n",
    "data"
   ]
  },
  {
   "cell_type": "markdown",
   "id": "da8967d1",
   "metadata": {},
   "source": [
    "La masa virial está dada por:\n",
    "\n",
    "$M_{virial} = \\dfrac{3\\pi N D}{2 G} \\dfrac{\\sum_{i=1}^{N} V_{z i }^2}{\\sum_{i<j} (1/ \\theta_{\\perp, i j})}$"
   ]
  },
  {
   "cell_type": "markdown",
   "id": "957b53e3",
   "metadata": {},
   "source": [
    "Primero vamos a desarrollar la sumatoria del denominador"
   ]
  },
  {
   "cell_type": "code",
   "execution_count": 21,
   "id": "9bf324dc",
   "metadata": {},
   "outputs": [
    {
     "data": {
      "text/plain": [
       "152"
      ]
     },
     "execution_count": 21,
     "metadata": {},
     "output_type": "execute_result"
    }
   ],
   "source": [
    "# Posiciones            \n",
    "AR = data.ra*(np.pi/180)    #En radianes \n",
    "DEC = data.dec*(np.pi/180)  #En radianes\n",
    "V = data.vel*1000           #En m/s\n",
    "N = len(AR)\n",
    "N"
   ]
  },
  {
   "cell_type": "markdown",
   "id": "918e5ec8",
   "metadata": {},
   "source": [
    "Centroide:\n",
    "\n",
    "$r_{av} = \\dfrac{1}{N} \\sum_{i=1}^{N} r_i$"
   ]
  },
  {
   "cell_type": "code",
   "execution_count": 22,
   "id": "1f7cadd3",
   "metadata": {},
   "outputs": [
    {
     "name": "stdout",
     "output_type": "stream",
     "text": [
      "Centroide:  [4.506470218665338, 1.1181498074743312]\n",
      "Velocidad media: 23987430.92105263\n"
     ]
    }
   ],
   "source": [
    "#Centroide y velocidad media\n",
    "cent = [np.mean(AR), np.mean(DEC)]\n",
    "Vm = np.mean(V)\n",
    "print(\"Centroide: \", cent)\n",
    "print(\"Velocidad media:\", Vm)"
   ]
  },
  {
   "cell_type": "markdown",
   "id": "6e77e646",
   "metadata": {},
   "source": [
    "Posiciones y velocidades relativas:\n",
    "\n",
    "$R_i  = r_i - r_{cent} $ \n",
    "\n",
    "$V_i =  v_i - v_{mean}$"
   ]
  },
  {
   "cell_type": "code",
   "execution_count": 23,
   "id": "a0284e7e",
   "metadata": {},
   "outputs": [],
   "source": [
    "#Definimos arreglos, después los llenamos acorde a las posiciones relativas\n",
    "ARrel  = [ ]; DECrel = [ ]; Vrel = [];\n",
    "\n",
    "for i in range(N):\n",
    "    ARrel.append(AR[i] - cent[0])   \n",
    "    DECrel.append(DEC[i] - cent[1]) \n",
    "    Vrel.append( V[i] - Vm)\n"
   ]
  },
  {
   "cell_type": "markdown",
   "id": "3fc778d9",
   "metadata": {},
   "source": [
    "Ahora realizamos la sumatoria (suponiendo que las posiciones ya son perpendiculares):\n",
    "\n",
    "$\\displaystyle \\sum_{i<j} \\dfrac{1}{R_{\\perp, ij}}$"
   ]
  },
  {
   "cell_type": "markdown",
   "id": "e81c5a71",
   "metadata": {},
   "source": [
    "Donde\n",
    "$R_{\\perp, ij} = D \\tan\\theta_{\\perp, ij} \\approx D \\theta_{\\perp, ij}$\n",
    "\n",
    "y\n",
    "\n",
    "$\\theta_{ij}^2 = (\\alpha_i  - \\alpha_j)^2 + (\\delta_i - \\delta_j)^2$"
   ]
  },
  {
   "cell_type": "code",
   "execution_count": 24,
   "id": "af5413fd",
   "metadata": {},
   "outputs": [
    {
     "data": {
      "text/plain": [
       "11476"
      ]
     },
     "execution_count": 24,
     "metadata": {},
     "output_type": "execute_result"
    }
   ],
   "source": [
    "theta = []\n",
    "for i in range(N):\n",
    "    for j in range(i+1, N):\n",
    "        ARdif = ARrel[i] - ARrel[j]   \n",
    "        DECdif = DECrel[i] - DECrel[j]\n",
    "        theta.append( 1/np.sqrt( ARdif**2 + DECdif**2)   )\n",
    "        #print(\"(\",i,\",\", j, \")\", end='\\t')\n",
    "        #print(i==j, end='\\t')\n",
    "\n",
    "theta\n",
    "len(theta)\n",
    "    "
   ]
  },
  {
   "cell_type": "code",
   "execution_count": 25,
   "id": "c347be30",
   "metadata": {},
   "outputs": [
    {
     "data": {
      "text/plain": [
       "2618405.17962533"
      ]
     },
     "execution_count": 25,
     "metadata": {},
     "output_type": "execute_result"
    }
   ],
   "source": [
    "SumTheta = sum(theta)\n",
    "SumTheta"
   ]
  },
  {
   "cell_type": "code",
   "execution_count": 30,
   "id": "4333c976",
   "metadata": {},
   "outputs": [],
   "source": [
    "V2 = []\n",
    "for i in range(N):\n",
    "    V2.append(Vrel[i]*Vrel[i] )"
   ]
  },
  {
   "cell_type": "markdown",
   "id": "b8481be8",
   "metadata": {},
   "source": [
    "Ahora realizamos la sumatoria de velocidades"
   ]
  },
  {
   "cell_type": "code",
   "execution_count": 27,
   "id": "847df84c",
   "metadata": {},
   "outputs": [
    {
     "data": {
      "text/plain": [
       "135358675424671.05"
      ]
     },
     "execution_count": 27,
     "metadata": {},
     "output_type": "execute_result"
    }
   ],
   "source": [
    "SumV = sum( V2)\n",
    "SumV"
   ]
  },
  {
   "cell_type": "markdown",
   "id": "a44821d7",
   "metadata": {},
   "source": [
    "Calculo final"
   ]
  },
  {
   "cell_type": "code",
   "execution_count": 28,
   "id": "562813fc",
   "metadata": {},
   "outputs": [
    {
     "name": "stdout",
     "output_type": "stream",
     "text": [
      "Masa (kg): 1.82e+45\n"
     ]
    }
   ],
   "source": [
    "M = (3*np.pi*N*D/(2*G))* (SumV/SumTheta)\n",
    "#Mas = (3*np.pi*N/(2*G))* (SumV/SumRijas)\n",
    "print(\"Masa (kg): {:.2e}\".format(M))\n",
    "#print(\"Masa (arcsec): \", Mas)"
   ]
  },
  {
   "cell_type": "code",
   "execution_count": 29,
   "id": "fd2e1f94",
   "metadata": {},
   "outputs": [
    {
     "name": "stdout",
     "output_type": "stream",
     "text": [
      "En masas solares\n",
      "Masa:  9.16e+14  M⊙\n"
     ]
    }
   ],
   "source": [
    "#En masas solares\n",
    "MS = 1.9891e30\n",
    "print(\"En masas solares\")\n",
    "print(\"Masa:  {:.2e}  M⊙\".format(M/MS))"
   ]
  },
  {
   "cell_type": "code",
   "execution_count": null,
   "id": "fb9c67bc",
   "metadata": {},
   "outputs": [],
   "source": []
  }
 ],
 "metadata": {
  "kernelspec": {
   "display_name": "Python 3 (ipykernel)",
   "language": "python",
   "name": "python3"
  },
  "language_info": {
   "codemirror_mode": {
    "name": "ipython",
    "version": 3
   },
   "file_extension": ".py",
   "mimetype": "text/x-python",
   "name": "python",
   "nbconvert_exporter": "python",
   "pygments_lexer": "ipython3",
   "version": "3.10.4"
  }
 },
 "nbformat": 4,
 "nbformat_minor": 5
}
