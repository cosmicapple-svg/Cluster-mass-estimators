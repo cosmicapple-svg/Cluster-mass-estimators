{
 "cells": [
  {
   "cell_type": "markdown",
   "id": "0de0526b",
   "metadata": {},
   "source": [
    "# Estimador promedio"
   ]
  },
  {
   "cell_type": "code",
   "execution_count": 16,
   "id": "b967385e",
   "metadata": {},
   "outputs": [],
   "source": [
    "import numpy as np\n",
    "import pandas as pd"
   ]
  },
  {
   "cell_type": "code",
   "execution_count": 17,
   "id": "d8d0a1d0",
   "metadata": {},
   "outputs": [
    {
     "data": {
      "text/html": [
       "<div>\n",
       "<style scoped>\n",
       "    .dataframe tbody tr th:only-of-type {\n",
       "        vertical-align: middle;\n",
       "    }\n",
       "\n",
       "    .dataframe tbody tr th {\n",
       "        vertical-align: top;\n",
       "    }\n",
       "\n",
       "    .dataframe thead th {\n",
       "        text-align: right;\n",
       "    }\n",
       "</style>\n",
       "<table border=\"1\" class=\"dataframe\">\n",
       "  <thead>\n",
       "    <tr style=\"text-align: right;\">\n",
       "      <th></th>\n",
       "      <th>No.</th>\n",
       "      <th>Object Name</th>\n",
       "      <th>RA</th>\n",
       "      <th>DEC</th>\n",
       "      <th>Velocity</th>\n",
       "      <th>Redshift</th>\n",
       "    </tr>\n",
       "  </thead>\n",
       "  <tbody>\n",
       "    <tr>\n",
       "      <th>0</th>\n",
       "      <td>1</td>\n",
       "      <td>&lt;a HREF=\"#\" onclick=\"getObjectSearchInfo(jQuer...</td>\n",
       "      <td>175.077125</td>\n",
       "      <td>9.009889</td>\n",
       "      <td>1833.000000</td>\n",
       "      <td>0.006114</td>\n",
       "    </tr>\n",
       "    <tr>\n",
       "      <th>1</th>\n",
       "      <td>2</td>\n",
       "      <td>&lt;a HREF=\"#\" onclick=\"getObjectSearchInfo(jQuer...</td>\n",
       "      <td>175.244833</td>\n",
       "      <td>11.471139</td>\n",
       "      <td>992.013259</td>\n",
       "      <td>0.003309</td>\n",
       "    </tr>\n",
       "    <tr>\n",
       "      <th>2</th>\n",
       "      <td>3</td>\n",
       "      <td>&lt;a HREF=\"#\" onclick=\"getObjectSearchInfo(jQuer...</td>\n",
       "      <td>175.440227</td>\n",
       "      <td>-1.901338</td>\n",
       "      <td>1808.348056</td>\n",
       "      <td>0.006032</td>\n",
       "    </tr>\n",
       "    <tr>\n",
       "      <th>3</th>\n",
       "      <td>4</td>\n",
       "      <td>&lt;a HREF=\"#\" onclick=\"getObjectSearchInfo(jQuer...</td>\n",
       "      <td>175.461000</td>\n",
       "      <td>15.973750</td>\n",
       "      <td>738.683700</td>\n",
       "      <td>0.002464</td>\n",
       "    </tr>\n",
       "    <tr>\n",
       "      <th>4</th>\n",
       "      <td>5</td>\n",
       "      <td>&lt;a HREF=\"#\" onclick=\"getObjectSearchInfo(jQuer...</td>\n",
       "      <td>175.577500</td>\n",
       "      <td>14.994722</td>\n",
       "      <td>1021.093112</td>\n",
       "      <td>0.003406</td>\n",
       "    </tr>\n",
       "    <tr>\n",
       "      <th>...</th>\n",
       "      <td>...</td>\n",
       "      <td>...</td>\n",
       "      <td>...</td>\n",
       "      <td>...</td>\n",
       "      <td>...</td>\n",
       "      <td>...</td>\n",
       "    </tr>\n",
       "    <tr>\n",
       "      <th>975</th>\n",
       "      <td>990</td>\n",
       "      <td>&lt;a HREF=\"#\" onclick=\"getObjectSearchInfo(jQuer...</td>\n",
       "      <td>183.451125</td>\n",
       "      <td>12.690556</td>\n",
       "      <td>812.000000</td>\n",
       "      <td>0.002709</td>\n",
       "    </tr>\n",
       "    <tr>\n",
       "      <th>976</th>\n",
       "      <td>991</td>\n",
       "      <td>&lt;a HREF=\"#\" onclick=\"getObjectSearchInfo(jQuer...</td>\n",
       "      <td>183.471667</td>\n",
       "      <td>7.454382</td>\n",
       "      <td>2097.151822</td>\n",
       "      <td>0.006995</td>\n",
       "    </tr>\n",
       "    <tr>\n",
       "      <th>977</th>\n",
       "      <td>997</td>\n",
       "      <td>&lt;a HREF=\"#\" onclick=\"getObjectSearchInfo(jQuer...</td>\n",
       "      <td>183.560117</td>\n",
       "      <td>13.542942</td>\n",
       "      <td>1305.596155</td>\n",
       "      <td>0.004355</td>\n",
       "    </tr>\n",
       "    <tr>\n",
       "      <th>978</th>\n",
       "      <td>998</td>\n",
       "      <td>&lt;a HREF=\"#\" onclick=\"getObjectSearchInfo(jQuer...</td>\n",
       "      <td>183.592491</td>\n",
       "      <td>14.978674</td>\n",
       "      <td>82290.841236</td>\n",
       "      <td>0.274493</td>\n",
       "    </tr>\n",
       "    <tr>\n",
       "      <th>979</th>\n",
       "      <td>1000</td>\n",
       "      <td>&lt;a HREF=\"#\" onclick=\"getObjectSearchInfo(jQuer...</td>\n",
       "      <td>183.637333</td>\n",
       "      <td>12.103250</td>\n",
       "      <td>2114.563768</td>\n",
       "      <td>0.007053</td>\n",
       "    </tr>\n",
       "  </tbody>\n",
       "</table>\n",
       "<p>980 rows × 6 columns</p>\n",
       "</div>"
      ],
      "text/plain": [
       "      No.                                        Object Name          RA  \\\n",
       "0       1  <a HREF=\"#\" onclick=\"getObjectSearchInfo(jQuer...  175.077125   \n",
       "1       2  <a HREF=\"#\" onclick=\"getObjectSearchInfo(jQuer...  175.244833   \n",
       "2       3  <a HREF=\"#\" onclick=\"getObjectSearchInfo(jQuer...  175.440227   \n",
       "3       4  <a HREF=\"#\" onclick=\"getObjectSearchInfo(jQuer...  175.461000   \n",
       "4       5  <a HREF=\"#\" onclick=\"getObjectSearchInfo(jQuer...  175.577500   \n",
       "..    ...                                                ...         ...   \n",
       "975   990  <a HREF=\"#\" onclick=\"getObjectSearchInfo(jQuer...  183.451125   \n",
       "976   991  <a HREF=\"#\" onclick=\"getObjectSearchInfo(jQuer...  183.471667   \n",
       "977   997  <a HREF=\"#\" onclick=\"getObjectSearchInfo(jQuer...  183.560117   \n",
       "978   998  <a HREF=\"#\" onclick=\"getObjectSearchInfo(jQuer...  183.592491   \n",
       "979  1000  <a HREF=\"#\" onclick=\"getObjectSearchInfo(jQuer...  183.637333   \n",
       "\n",
       "           DEC      Velocity  Redshift  \n",
       "0     9.009889   1833.000000  0.006114  \n",
       "1    11.471139    992.013259  0.003309  \n",
       "2    -1.901338   1808.348056  0.006032  \n",
       "3    15.973750    738.683700  0.002464  \n",
       "4    14.994722   1021.093112  0.003406  \n",
       "..         ...           ...       ...  \n",
       "975  12.690556    812.000000  0.002709  \n",
       "976   7.454382   2097.151822  0.006995  \n",
       "977  13.542942   1305.596155  0.004355  \n",
       "978  14.978674  82290.841236  0.274493  \n",
       "979  12.103250   2114.563768  0.007053  \n",
       "\n",
       "[980 rows x 6 columns]"
      ]
     },
     "execution_count": 17,
     "metadata": {},
     "output_type": "execute_result"
    }
   ],
   "source": [
    "data = pd.read_csv(\"Datos\\VirgoCluster.csv\")\n",
    "data"
   ]
  },
  {
   "cell_type": "code",
   "execution_count": 18,
   "id": "6c88f466",
   "metadata": {},
   "outputs": [],
   "source": [
    "#Se toman los datos de interés\n",
    "AR = data.RA* (np.pi/180)        #Radianes\n",
    "DEC = data.DEC *(np.pi/180)      #Radianes\n",
    "V = data.Velocity* 1000          #m/s\n",
    "N = len(AR)"
   ]
  },
  {
   "cell_type": "markdown",
   "id": "4b0dce1d",
   "metadata": {},
   "source": [
    "Centroide:\n",
    "\n",
    "$r_{av} = \\dfrac{1}{N} \\sum_{i=1}^{N} r_i$"
   ]
  },
  {
   "cell_type": "code",
   "execution_count": 19,
   "id": "7c5f4955",
   "metadata": {},
   "outputs": [
    {
     "data": {
      "text/plain": [
       "[3.2650662655566873, 0.17012721204685913]"
      ]
     },
     "execution_count": 19,
     "metadata": {},
     "output_type": "execute_result"
    }
   ],
   "source": [
    "cent = [sum(AR)/N, sum(DEC)/N]\n",
    "cent"
   ]
  },
  {
   "cell_type": "code",
   "execution_count": 20,
   "id": "570b4b6d",
   "metadata": {},
   "outputs": [],
   "source": [
    "#Definimos arreglos, después los llenamos acorde a las posiciones relativas\n",
    "ARrel  = [ ] \n",
    "DECrel = [ ]\n",
    "for i in range(N):\n",
    "    ARrel.append(AR[i] - cent[0]);   # ARasrel.append( ARas[i] - centas[0]  )\n",
    "    DECrel.append(DEC[i] - cent[1]); # DECasrel.append( DECas[i] - centas[1])\n",
    "    "
   ]
  },
  {
   "cell_type": "markdown",
   "id": "7fba5f5d",
   "metadata": {},
   "source": [
    "Diferencia de posiciones\n",
    "\n",
    "$\\theta_{ij}^2 = (\\Delta \\alpha)^2 + (\\Delta \\delta)^2 $"
   ]
  },
  {
   "cell_type": "code",
   "execution_count": 21,
   "id": "baa03b41",
   "metadata": {},
   "outputs": [],
   "source": [
    "#Diferencia de ángulos\n",
    "thetas = np.zeros((N, N))\n",
    "for i in range(N):\n",
    "    for j in range(i+1, N):\n",
    "        ARdif = ARrel[i] - ARrel[j]   \n",
    "        DECdif = DECrel[i] - DECrel[j]\n",
    "        #print(i, j, ARdif, DECdif)\n",
    "        thetas[i, j] = np.sqrt( ARdif**2 + DECdif**2  )\n",
    "        #print(\"(\",i,\",\", j, \")\", end='\\t')\n",
    "        #print(i==j, end='\\t')\n",
    "        "
   ]
  },
  {
   "cell_type": "code",
   "execution_count": 22,
   "id": "65a928b5",
   "metadata": {},
   "outputs": [],
   "source": [
    "Sum = []\n",
    "for i in range(N):\n",
    "    for j in range(i+1, N):\n",
    "        #print(\"(\",i, j,\")\",  i<j)\n",
    "        Sum.append(  ((V[i] + V[j])**2)*thetas[i, j] )\n",
    "        #print(\"[V[\",i,\"] + V[\", j,\"]]R[\", i, \",\", j,\"]\") \n",
    "S = sum(Sum)"
   ]
  },
  {
   "cell_type": "markdown",
   "id": "c6fadb07",
   "metadata": {},
   "source": [
    "La estimación de masa promedio está dada por:\n",
    "\n",
    "$\\displaystyle M_{av} = \\frac{f_{av}}{G} \\dfrac{2 D}{N(N-1)} \\sum_{i<j} (V_{zi} - V_{zj})^2 \\theta_{ij}, \\qquad f_{av} = 2.8$"
   ]
  },
  {
   "cell_type": "code",
   "execution_count": 23,
   "id": "93fe81ef",
   "metadata": {},
   "outputs": [
    {
     "name": "stdout",
     "output_type": "stream",
     "text": [
      "Masa (kg):  3.1801366430872885e+48\n",
      "En masas solares\n",
      "Masa: 1.5988620628895365e+18 M⊙\n"
     ]
    }
   ],
   "source": [
    "G = 6.6743*10**(-11)\n",
    "f = 2.8\n",
    "D = 4.937*10**(23)\n",
    "MS = 1.989*10**(30)\n",
    "\n",
    "\n",
    "M = (f*2*D*S)/(G*N*(N-1))\n",
    "print(\"Masa (kg): \", M)\n",
    "print(\"En masas solares\")\n",
    "print(\"Masa:\" , M/MS, \"M⊙\")"
   ]
  },
  {
   "cell_type": "code",
   "execution_count": null,
   "id": "8f7517e5",
   "metadata": {},
   "outputs": [],
   "source": []
  }
 ],
 "metadata": {
  "kernelspec": {
   "display_name": "Python 3 (ipykernel)",
   "language": "python",
   "name": "python3"
  },
  "language_info": {
   "codemirror_mode": {
    "name": "ipython",
    "version": 3
   },
   "file_extension": ".py",
   "mimetype": "text/x-python",
   "name": "python",
   "nbconvert_exporter": "python",
   "pygments_lexer": "ipython3",
   "version": "3.10.4"
  }
 },
 "nbformat": 4,
 "nbformat_minor": 5
}
