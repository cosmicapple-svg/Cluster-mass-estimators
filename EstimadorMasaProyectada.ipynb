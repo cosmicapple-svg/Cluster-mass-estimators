{
 "cells": [
  {
   "cell_type": "markdown",
   "id": "ecb3828d",
   "metadata": {},
   "source": [
    "# Estimador por masa proyectada"
   ]
  },
  {
   "cell_type": "code",
   "execution_count": 25,
   "id": "b5a9c31f",
   "metadata": {},
   "outputs": [],
   "source": [
    "import numpy as np\n",
    "import pandas as pd\n",
    "\n",
    "dirr = 'Datos\\A2255_dccoutcut.csv'\n",
    "D = 3.281618e24\n",
    "G = 6.67259e-11\n",
    "MS = 1.9891e30"
   ]
  },
  {
   "cell_type": "code",
   "execution_count": 26,
   "id": "4566e36a",
   "metadata": {},
   "outputs": [],
   "source": [
    "a = 1.5; f = 32/np.pi"
   ]
  },
  {
   "cell_type": "code",
   "execution_count": 27,
   "id": "f54d11f1",
   "metadata": {},
   "outputs": [],
   "source": [
    "data = pd.read_csv(\"Datos\\VirgoCluster.csv\")\n",
    "AR = data.RA * (np.pi/180)    #Radianes\n",
    "DEC = data.DEC* (np.pi/180)   #Radianes\n",
    "V = data.Velocity *1000       #En m/s\n",
    "N = len(AR)"
   ]
  },
  {
   "cell_type": "markdown",
   "id": "a9b1ba1c",
   "metadata": {},
   "source": [
    "La masa proyectada está dada por \n",
    "\n",
    "$M_{PM} = \\dfrac{f_{PM}}{G(N-1.5) } \\sum_{i} V_{zi}^2 R_{\\perp i}, \\qquad f_{MP}= \\dfrac{32}{\\pi} $"
   ]
  },
  {
   "cell_type": "markdown",
   "id": "918e5ec8",
   "metadata": {},
   "source": [
    "Centroide:\n",
    "\n",
    "$r_{av} = \\dfrac{1}{N} \\sum_{i=1}^{N} r_i$"
   ]
  },
  {
   "cell_type": "code",
   "execution_count": 28,
   "id": "eb13159c",
   "metadata": {},
   "outputs": [
    {
     "name": "stdout",
     "output_type": "stream",
     "text": [
      "Centroide:  [3.265066265556683, 0.17012721204685916]\n",
      "Velocidad media 4648625.798027552\n"
     ]
    }
   ],
   "source": [
    "#Centroide\n",
    "cent = [np.mean(AR), np.mean(DEC)]\n",
    "print(\"Centroide: \", cent)\n",
    "Vm = np.mean(V)\n",
    "print(\"Velocidad media\", Vm)"
   ]
  },
  {
   "cell_type": "markdown",
   "id": "7a7cf96c",
   "metadata": {},
   "source": [
    "Posiciones y velocidades relativas al centroide:\n",
    "\n",
    "$R_i  = r_i - r_{av}$ "
   ]
  },
  {
   "cell_type": "code",
   "execution_count": 29,
   "id": "88f52494",
   "metadata": {},
   "outputs": [],
   "source": [
    "theta = []\n",
    "Vrel = []\n",
    "for i in range(N):\n",
    "    ARrel = AR[i] - cent[0]\n",
    "    DECrel = DEC[i] - cent[1]\n",
    "    theta.append( np.sqrt( ARrel**2 + DECrel**2 )  )\n",
    "    Vrel.append(V[i] - Vm)\n"
   ]
  },
  {
   "cell_type": "code",
   "execution_count": 30,
   "id": "9c58f3ce",
   "metadata": {},
   "outputs": [],
   "source": [
    "Sum = []\n",
    "for i in range(N):\n",
    "    Sum.append(Vrel[i]*Vrel[i]*theta[i])\n",
    "suma = sum(Sum)"
   ]
  },
  {
   "cell_type": "markdown",
   "id": "7f6677f6",
   "metadata": {},
   "source": [
    "$M_{PM} = \\dfrac{f_{pm} D}{G(N - 1.5)}\\displaystyle \\sum_{i} V_{z. i}^2 \\theta_{\\perp, i}$"
   ]
  },
  {
   "cell_type": "code",
   "execution_count": 31,
   "id": "3358dbff",
   "metadata": {},
   "outputs": [
    {
     "name": "stdout",
     "output_type": "stream",
     "text": [
      "Masa (kg):  2.592921972004407e+49\n",
      "En masas solares\n",
      "Masa: 1.3035654175277296e+19 M⊙\n"
     ]
    }
   ],
   "source": [
    "M = (f*suma*D)/(G*(N - a))\n",
    "print(\"Masa (kg): \", M)\n",
    "print(\"En masas solares\")\n",
    "print(\"Masa:\" , M/MS, \"M⊙\")\n"
   ]
  },
  {
   "cell_type": "code",
   "execution_count": null,
   "id": "a2129913",
   "metadata": {},
   "outputs": [],
   "source": []
  }
 ],
 "metadata": {
  "kernelspec": {
   "display_name": "Python 3 (ipykernel)",
   "language": "python",
   "name": "python3"
  },
  "language_info": {
   "codemirror_mode": {
    "name": "ipython",
    "version": 3
   },
   "file_extension": ".py",
   "mimetype": "text/x-python",
   "name": "python",
   "nbconvert_exporter": "python",
   "pygments_lexer": "ipython3",
   "version": "3.10.4"
  }
 },
 "nbformat": 4,
 "nbformat_minor": 5
}
