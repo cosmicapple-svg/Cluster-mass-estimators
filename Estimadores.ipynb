{
 "cells": [
  {
   "cell_type": "code",
   "execution_count": 29,
   "id": "400e9ea5",
   "metadata": {},
   "outputs": [],
   "source": [
    "import numpy as np\n",
    "import pandas as pd\n",
    "\n",
    "#Constante de gravitación (SI)\n",
    "G = 6.6743*10**(-11)\n",
    "#Masa solar (kg)\n",
    "MS = 1.989*10**(30)\n"
   ]
  },
  {
   "cell_type": "markdown",
   "id": "d7f62e16",
   "metadata": {},
   "source": [
    "Distancia de Hubble (para redshifts pequeños)\n",
    "\n",
    "$d = z D_H = z \\dfrac{c}{H_0} = z (9.26\\times 10^{25} h^{-1} )$ m"
   ]
  },
  {
   "cell_type": "code",
   "execution_count": 18,
   "id": "2cff1df9",
   "metadata": {},
   "outputs": [],
   "source": [
    "def Distancia(z):\n",
    "    h0 = 0.71\n",
    "    #Del Carroll p.1071\n",
    "    H0 = h0*3.24*10**(-18)\n",
    "    DH = (299792458)/H0\n",
    "    return z*DH"
   ]
  },
  {
   "cell_type": "markdown",
   "id": "0a14b7c9",
   "metadata": {},
   "source": [
    "Posiciones angulares y velocidades relativas al centroide y a la velocidad media\n",
    "\n",
    "$ (\\alpha_{rel}, \\delta_{rel}) = (\\alpha_i - \\alpha_{av}, \\delta_{i} - \\delta_{av})$\n",
    "\n",
    "$V_{i, rel} = v_i - v_{av}$\n"
   ]
  },
  {
   "cell_type": "code",
   "execution_count": 19,
   "id": "cb0bb243",
   "metadata": {},
   "outputs": [],
   "source": [
    "def PosicionesRelativas(dir):\n",
    "    datos = pd.read_csv(dir)\n",
    "    \n",
    "    # Posiciones            \n",
    "    AR = datos.ra*(np.pi/180)    #En radianes \n",
    "    DEC = datos.dec*(np.pi/180)  #En radianes\n",
    "    V = datos.vel*1000           #En m/s\n",
    "    N = len(AR)\n",
    "    \n",
    "    #Centroide y velocidad promedio\n",
    "    cent = [np.mean(AR), np.mean(DEC)]\n",
    "    Vm = np.mean(V)\n",
    "    \n",
    "    \n",
    "    #Definimos arreglos, después los llenamos acorde a las posiciones relativas\n",
    "    ARrel = [ ]; DECrel = [ ]; Vrel =[]\n",
    "    for i in range(N):\n",
    "        ARrel.append(AR[i] - cent[0])   \n",
    "        DECrel.append(DEC[i] - cent[1]) \n",
    "        Vrel.append( V[i] - Vm )\n",
    "\n",
    "    \n",
    "    return ARrel, DECrel, N, Vrel\n",
    "    \n",
    "    "
   ]
  },
  {
   "cell_type": "markdown",
   "id": "3012a5f8",
   "metadata": {},
   "source": [
    "### Estimador virial\n",
    "\n",
    "$M_{virial} = \\dfrac{3\\pi N }{2 G} \\dfrac{\\sum_{i=1}^{N} V_{z i }^2}{\\sum_{i<j} (1/ R_{\\perp, i j})}$\n",
    "\n",
    "Donde\n",
    "$R_{\\perp, ij} = D \\tan\\theta_{\\perp, ij} \\approx D \\theta_{\\perp, ij}$\n",
    "\n",
    "y\n",
    "\n",
    "$\\theta_{ij}^2 = (\\alpha_{rel,i}  - \\alpha_{rel, j})^2 + (\\delta_{rel, i} - \\delta_{rel, j})^2$"
   ]
  },
  {
   "cell_type": "code",
   "execution_count": 20,
   "id": "026006bc",
   "metadata": {},
   "outputs": [],
   "source": [
    "#En el archivo tener encabezados \n",
    "#ra-> Ascensión recta, #dec-> declinación y #vel-> Velocidades \n",
    "def EstimadorVirial(dir, D):\n",
    "    \n",
    "    #Posiciones relativas, # de galacias y velocidades relativas\n",
    "    ARrel, DECrel, N, Vrel = PosicionesRelativas(dir)\n",
    "    \n",
    "    #Diferencia angular entre galaxias\n",
    "    theta = []\n",
    "    for i in range(N):\n",
    "        for j in range(i+1, N):\n",
    "            ARdif = ARrel[i] - ARrel[j] \n",
    "            DECdif = DECrel[i] - DECrel[j]\n",
    "            theta.append( 1/np.sqrt( ARdif**2 + DECdif**2)   )\n",
    "            #print(\"(\",i,\",\", j, \")\", end='\\t')\n",
    "            #print(i==j, end='\\t')\n",
    "    \n",
    "    #Sumamos el resultado\n",
    "    SumTheta = sum(theta)\n",
    "    \n",
    "    #Suma de velocidades al cuadrado\n",
    "    V2 = []\n",
    "    for i in range(N):\n",
    "        V2.append(Vrel[i]*Vrel[i])\n",
    "    SumV2 = sum(V2)\n",
    "    \n",
    "    #Estimación\n",
    "    M = (3*np.pi*N*D/(2*G))*(SumV2/SumTheta)\n",
    "    print(\"MASA VIRIAL (kg): \", M)\n",
    "    print(\"En masas solares\")\n",
    "    print(\"Masa:\" , M/MS, \"M⊙\")\n",
    "    "
   ]
  },
  {
   "cell_type": "markdown",
   "id": "84bd51f1",
   "metadata": {},
   "source": [
    "### Estimador de masa mediana\n",
    "\n",
    "\n",
    "$M_{med} = \\dfrac{f_{me}}{G} \\sum_{i} \\sum_{j} [ (V_{zi} - V_{zj})^2 R_{\\perp, ij} ] = \\dfrac{f_{me}}{G}\\;  med_{ij}[ (V_{zi} - V_{zj})^2 R_{\\perp, ij} ],  \\qquad f_{me} = 6.5$"
   ]
  },
  {
   "cell_type": "code",
   "execution_count": 21,
   "id": "a0457d85",
   "metadata": {},
   "outputs": [],
   "source": [
    "def EstimadorMediana(dir, D):\n",
    "    f =6.5\n",
    "    #Sacamos posiciones relativas, número de galaxias y velocidades\n",
    "    ARrel, DECrel, N, Vrel = PosicionesRelativas(dir)\n",
    "    \n",
    "    #Diferencia de ángulos\n",
    "    thetas = np.zeros((N, N))\n",
    "    for i in range(N):\n",
    "        for j in range(i+1, N):\n",
    "            ARdif = ARrel[i] - ARrel[j]   \n",
    "            DECdif = DECrel[i] - DECrel[j]\n",
    "            #print(i, j, ARdif, DECdif)\n",
    "            thetas[i, j] = np.sqrt( ARdif**2 + DECdif**2  )\n",
    "            #print(\"(\",i,\",\", j, \")\", end='\\t')\n",
    "            #print(i==j, end='\\t')\n",
    "        \n",
    "    #Realizamos la sumatoria\n",
    "    Suma = []\n",
    "    Matriz = np.zeros([N, N])\n",
    "    \n",
    "    for i in range(N):\n",
    "        for j in range(N):\n",
    "            arg = ( (Vrel[i] - Vrel[j])**2)*thetas[i, j]\n",
    "            Suma.append(arg)\n",
    "            Matriz[i, j] = arg\n",
    "    Suma = sum(Suma)\n",
    "    \n",
    "    #Convertimos la matriz en un arreglo lineal\n",
    "    array = Matriz.flatten()\n",
    "    #Eliminamos los valores nulos y los guardamos en otro arreglo\n",
    "    array2 = []\n",
    "    for i in range(len(array)):\n",
    "        if array[i]>0: array2.append(array[i])\n",
    "    \n",
    "    mediana = np.median(array2)\n",
    "    \n",
    "    #Estimación de masa\n",
    "    M = f*Suma*D/G\n",
    "    print(\"\\nMASA MEDIANA SUMA (kg): {:.2E}\".format(M))\n",
    "    print(\"En masas solares\")\n",
    "    print(\"Masa: {:.2E}\".format(M/MS))\n",
    "\n",
    "    M = f*mediana*D/G\n",
    "\n",
    "    print(\"\\nMASA MEDIANA MEDIANA (kg): {:.2E}\".format(M))\n",
    "    print(\"En masas solares\")\n",
    "    print(\"Masa: {:.2E}\".format(M/MS))\n",
    "\n",
    "    \n",
    "    \n",
    "    "
   ]
  },
  {
   "cell_type": "markdown",
   "id": "9bf27f92",
   "metadata": {},
   "source": [
    "### Masa proyectada\n",
    "\n",
    "\n",
    "$M_{PM} = \\dfrac{f_{PM}}{G(N-1.5) } \\sum_{i} V_{zi}^2 R_{\\perp i}, \\qquad f_{MP}= \\dfrac{32}{\\pi} $"
   ]
  },
  {
   "cell_type": "code",
   "execution_count": 22,
   "id": "e1927215",
   "metadata": {},
   "outputs": [],
   "source": [
    "def EstimadorProyectada(dir, D):\n",
    "    #Constantes propias del estimador\n",
    "    a = 1.5; f = 32/np.pi\n",
    "    \n",
    "    #Posiciones relativas, número de galaxias y velocidades\n",
    "    ARrel, DECrel, N, Vrel = PosicionesRelativas(dir)\n",
    "    \n",
    "    #Sumatoria\n",
    "    theta = []\n",
    "    for i in range(N):\n",
    "        theta.append( np.sqrt( ARrel[i]**2 + DECrel[i]**2 )  )\n",
    "    \n",
    "    #Suma velocidades al cuadrado\n",
    "    V2 =[]\n",
    "    for i in range(N):\n",
    "        V2.append(Vrel[i]*Vrel[i])\n",
    "\n",
    "    suma = []\n",
    "    for i in range(N):\n",
    "        suma.append(V2[i]*theta[i])\n",
    "    \n",
    "    Suma = sum(suma)\n",
    "    \n",
    "    Suma = sum( (V**2)*theta  )\n",
    "    \n",
    "    #Estimación\n",
    "    M = (f*Suma*D)/(G*(N-a))\n",
    "    print(\"MASA PROYECTADA (kg): \", M)\n",
    "    print(\"En masas solares\")\n",
    "    print(\"Masa:\" , M/MS, \"M⊙\")\n",
    "\n",
    "    \n",
    "    \n",
    "        \n",
    "    \n",
    "    "
   ]
  },
  {
   "cell_type": "markdown",
   "id": "eb4edc4d",
   "metadata": {},
   "source": [
    "La estimación de masa promedio está dada por:\n",
    "\n",
    "$\\displaystyle M_{av} = \\frac{f_{av}}{G} \\dfrac{2 D}{N(N-1)} \\sum_{i<j} (V_{zi} - V_{zj})^2 \\theta_{ij}, \\qquad f_{av} = 2.8$"
   ]
  },
  {
   "cell_type": "code",
   "execution_count": 23,
   "id": "eb8d76b9",
   "metadata": {},
   "outputs": [],
   "source": [
    "def EstimadorPromedio(dir, D):\n",
    "    #Constante propia del estimador\n",
    "    f = 2.8\n",
    "    \n",
    "    #Posiciones relativas, número de galaxias y velocidades\n",
    "    ARrel, DECrel, N, V = PosicionesRelativas(dir)\n",
    "    \n",
    "    #Diferencia de ángulos\n",
    "    thetas = np.zeros((N, N))\n",
    "    for i in range(N):\n",
    "        for j in range(i+1, N):\n",
    "            ARdif = ARrel[i] - ARrel[j]   \n",
    "            DECdif = DECrel[i] - DECrel[j]\n",
    "            #print(i, j, ARdif, DECdif)\n",
    "            thetas[i, j] = np.sqrt( ARdif**2 + DECdif**2  )\n",
    "            #print(\"(\",i,\",\", j, \")\", end='\\t')\n",
    "            #print(i==j, end='\\t')\n",
    "    \n",
    "    #Realizamos la sumatoria\n",
    "    Sum = []\n",
    "    for i in range(N):\n",
    "        for j in range(i+1, N):\n",
    "            #print(\"(\",i, j,\")\",  i<j)\n",
    "            Sum.append(  ((V[i] - V[j])**2)*thetas[i, j] )\n",
    "            #print(\"[V[\",i,\"] + V[\", j,\"]]R[\", i, \",\", j,\"]\") \n",
    "    Suma = sum(Sum)\n",
    "            \n",
    "    #Estimación\n",
    "    M =  (f*2*D*Suma)/(G*N*(N-1))\n",
    "    print(\"MASA PROMEDIO (kg): \", M)\n",
    "    print(\"En masas solares\")\n",
    "    print(\"Masa:\" , M/MS, \"M⊙\")\n",
    "    "
   ]
  },
  {
   "cell_type": "code",
   "execution_count": 24,
   "id": "339123ee",
   "metadata": {},
   "outputs": [],
   "source": [
    "dirr =\"Datos\\A1066_dccoutcut.csv\"\n",
    "d = Distancia(0.0690)"
   ]
  },
  {
   "cell_type": "code",
   "execution_count": 25,
   "id": "9c3f27e6",
   "metadata": {},
   "outputs": [
    {
     "name": "stdout",
     "output_type": "stream",
     "text": [
      "MASA VIRIAL (kg):  1.5401685653689373e+42\n",
      "En masas solares\n",
      "Masa: 774343170120.1293 M⊙\n"
     ]
    }
   ],
   "source": [
    "EstimadorVirial(dirr, d)"
   ]
  },
  {
   "cell_type": "code",
   "execution_count": 33,
   "id": "575b7a45",
   "metadata": {},
   "outputs": [
    {
     "data": {
      "text/plain": [
       "9.010623e+44"
      ]
     },
     "execution_count": 33,
     "metadata": {},
     "output_type": "execute_result"
    }
   ],
   "source": [
    "(4.53e14)*(1.9891e30)"
   ]
  },
  {
   "cell_type": "code",
   "execution_count": null,
   "id": "f10341ad",
   "metadata": {},
   "outputs": [],
   "source": []
  }
 ],
 "metadata": {
  "kernelspec": {
   "display_name": "Python 3 (ipykernel)",
   "language": "python",
   "name": "python3"
  },
  "language_info": {
   "codemirror_mode": {
    "name": "ipython",
    "version": 3
   },
   "file_extension": ".py",
   "mimetype": "text/x-python",
   "name": "python",
   "nbconvert_exporter": "python",
   "pygments_lexer": "ipython3",
   "version": "3.10.4"
  }
 },
 "nbformat": 4,
 "nbformat_minor": 5
}
