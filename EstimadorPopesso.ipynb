{
 "cells": [
  {
   "cell_type": "markdown",
   "id": "7a26f99a",
   "metadata": {},
   "source": [
    "# Estimador de Popesso"
   ]
  },
  {
   "cell_type": "code",
   "execution_count": 93,
   "id": "09a3c32c",
   "metadata": {},
   "outputs": [],
   "source": [
    "import numpy as np\n",
    "import pandas as pd \n",
    "from astropy.stats import biweight_scale\n",
    "from Estimadores import PosicionesRelativas\n",
    "\n",
    "#Constante de gravitación (SI)\n",
    "G = 6.6743e-11\n",
    "#Masa solar (kg)\n",
    "MS = 1.9891e30"
   ]
  },
  {
   "cell_type": "code",
   "execution_count": 94,
   "id": "da0a5f43",
   "metadata": {},
   "outputs": [],
   "source": [
    "#Dirección de los datos\n",
    "dirr = 'Datos\\A2255_dccoutcut.csv'\n",
    "\n",
    "#Distancia al cúmulo (m) (los he estado sacando de NED)\n",
    "d = 1.093657e+25\n"
   ]
  },
  {
   "cell_type": "markdown",
   "id": "5bdd1e3c",
   "metadata": {},
   "source": [
    "Popesso utiliza la dispersión de velocidades por medio del estimador biwight (Beers et al. 1990, ecuación 9)\n",
    "\n",
    "Este estimador está hecho en la librería Astropy.\n",
    "\n",
    "Además, considera las correcciones de The & White con el término superficial. "
   ]
  },
  {
   "cell_type": "code",
   "execution_count": 95,
   "id": "466910c8",
   "metadata": {},
   "outputs": [
    {
     "name": "stdout",
     "output_type": "stream",
     "text": [
      "978577.076407328\n",
      "957613094469.9135\n"
     ]
    }
   ],
   "source": [
    "# Desviación estándar de las velocidades por medio del estimador biweight\n",
    "ARrel, DECrel, N, Vrel = PosicionesRelativas(dirr)\n",
    "\n",
    "#Desviación estándar\n",
    "sigma = biweight_scale(Vrel)\n",
    "sigma2 = sigma**2\n",
    "#sigma = 7160000\n",
    "print(sigma)\n",
    "print(sigma2)"
   ]
  },
  {
   "cell_type": "markdown",
   "id": "a4194877",
   "metadata": {},
   "source": [
    "La masa virial es corregida por el término de presión superficial de The & White (1986) adoptando un perfil de Navarro et al. (1997, 1997).\n",
    "\n",
    "Tenemos una especie de generalización del teorema del Virial con constricciones incluidas (The & White (1986)):\n",
    "\n",
    "$<v^2> -  \\dfrac{G M_{t, o}}{r_o} I = Término\\; \\; Superficial   $\n",
    "\n",
    "donde se adopta $Término\\; \\; Superficial = 0.21 <v^2>$ e $I$ es un coeficiente proveniente de una integral, la cual da como resultado $I = 1.28$\n",
    "\n",
    "$<v^2> -  \\dfrac{G M_{t, o}}{r_o} I =  0.21 <v^2> \\implies M = \\dfrac{(1 -0.21)<v^2>}{G I} r_0$"
   ]
  },
  {
   "cell_type": "markdown",
   "id": "8276a89f",
   "metadata": {},
   "source": [
    "De acuerdo con Girarldi et al. 1998, la masa virial está dada por:\n",
    "\n",
    "$M_{virial} = \\dfrac{3\\pi}{2} \\dfrac{\\sigma^2 R_{pv}}{G\n",
    "\n",
    "donde $sigma^2$ será calculada con el estimador biweight y $R_{pv}$ es el radio virial proyectado, dado por:\n",
    "\n",
    "$R_{pv} = \\displaystyle \\dfrac{N(N-1) }{\\sum_{i<j} 1/R_{ij}}$"
   ]
  },
  {
   "cell_type": "code",
   "execution_count": 96,
   "id": "4cbfe8c0",
   "metadata": {},
   "outputs": [],
   "source": [
    "#Diferencia angular de galaxias\n",
    "#Diferencia angular entre galaxias\n",
    "theta = []\n",
    "\n",
    "for i in range(N):\n",
    "    for j in range(i+1, N):\n",
    "        ARdif = ARrel[i] - ARrel[j]   \n",
    "        DECdif = DECrel[i] - DECrel[j]\n",
    "        theta.append( 1/np.sqrt( ARdif**2 + DECdif**2) )  \n",
    "        #print(\"(\",i,\",\", j, \")\", end='\\t')\n",
    "       #print(i==j, end='\\t')\n",
    "    \n",
    "#Sumamos el resultado\n",
    "SumTheta = sum(theta)"
   ]
  },
  {
   "cell_type": "code",
   "execution_count": 97,
   "id": "89817f29",
   "metadata": {},
   "outputs": [
    {
     "name": "stdout",
     "output_type": "stream",
     "text": [
      "1.07e+16\n"
     ]
    }
   ],
   "source": [
    "#Estimación virial con desviación de biweight\n",
    "Mv = (1-0.21)*(3*np.pi*d*N*(N-1)*sigma2)/(2*G*SumTheta*0.24)\n",
    "print(\"{:.2e}\".format(Mv/MS))"
   ]
  },
  {
   "cell_type": "code",
   "execution_count": 98,
   "id": "aaf848af",
   "metadata": {},
   "outputs": [
    {
     "data": {
      "text/plain": [
       "5.422163294220419"
      ]
     },
     "execution_count": 98,
     "metadata": {},
     "output_type": "execute_result"
    }
   ],
   "source": [
    "#Sacamos el r200\n",
    "#radio de apertura (radio de Abell)\n",
    "rap = 6.6342e+22\n",
    "#Densidad crítica (del carroll) en teoría debería ser función del redshioft\n",
    "rhoc = 9.47e-27 \n",
    "#Densidad virial\n",
    "rhovir = 3*Mv/(4*np.pi*(rap**3))\n",
    "\n",
    "r200 = rap*( rhovir/(200*rhoc))**(1/2.4)\n",
    "r200/3.086e22"
   ]
  },
  {
   "cell_type": "code",
   "execution_count": 99,
   "id": "1bffa711",
   "metadata": {},
   "outputs": [
    {
     "name": "stdout",
     "output_type": "stream",
     "text": [
      "1.87e+16\n"
     ]
    }
   ],
   "source": [
    "H0 = 2.30e-18\n",
    "M200 = (100*(r200**3)*(H0**2) )/G\n",
    "print(\"{:.2e}\".format(M200/MS))"
   ]
  },
  {
   "cell_type": "code",
   "execution_count": 101,
   "id": "6a59f67b",
   "metadata": {},
   "outputs": [
    {
     "data": {
      "text/plain": [
       "0.34629629629629627"
      ]
     },
     "execution_count": 101,
     "metadata": {},
     "output_type": "execute_result"
    }
   ],
   "source": [
    "1.87/5.4"
   ]
  },
  {
   "cell_type": "code",
   "execution_count": null,
   "id": "dae4cb0b",
   "metadata": {},
   "outputs": [],
   "source": []
  }
 ],
 "metadata": {
  "kernelspec": {
   "display_name": "Python 3 (ipykernel)",
   "language": "python",
   "name": "python3"
  },
  "language_info": {
   "codemirror_mode": {
    "name": "ipython",
    "version": 3
   },
   "file_extension": ".py",
   "mimetype": "text/x-python",
   "name": "python",
   "nbconvert_exporter": "python",
   "pygments_lexer": "ipython3",
   "version": "3.10.4"
  }
 },
 "nbformat": 4,
 "nbformat_minor": 5
}
