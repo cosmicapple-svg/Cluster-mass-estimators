{
 "cells": [
  {
   "cell_type": "markdown",
   "id": "158cfb2f",
   "metadata": {},
   "source": [
    "# Estimador de masa mediana"
   ]
  },
  {
   "cell_type": "code",
   "execution_count": 40,
   "id": "2278d97f",
   "metadata": {},
   "outputs": [],
   "source": [
    "import numpy as np\n",
    "import pandas as pd\n",
    "\n",
    "dirr = 'Datos\\A2255_dccoutcut.csv'\n",
    "D = 3.281618e24\n",
    "G = 6.67259e-11\n",
    "MS = 1.9891e30"
   ]
  },
  {
   "cell_type": "code",
   "execution_count": 41,
   "id": "bd823e65",
   "metadata": {},
   "outputs": [
    {
     "data": {
      "text/html": [
       "<div>\n",
       "<style scoped>\n",
       "    .dataframe tbody tr th:only-of-type {\n",
       "        vertical-align: middle;\n",
       "    }\n",
       "\n",
       "    .dataframe tbody tr th {\n",
       "        vertical-align: top;\n",
       "    }\n",
       "\n",
       "    .dataframe thead th {\n",
       "        text-align: right;\n",
       "    }\n",
       "</style>\n",
       "<table border=\"1\" class=\"dataframe\">\n",
       "  <thead>\n",
       "    <tr style=\"text-align: right;\">\n",
       "      <th></th>\n",
       "      <th>ra</th>\n",
       "      <th>dec</th>\n",
       "      <th>vel</th>\n",
       "      <th>evel</th>\n",
       "      <th>dist</th>\n",
       "      <th>dvel</th>\n",
       "    </tr>\n",
       "  </thead>\n",
       "  <tbody>\n",
       "    <tr>\n",
       "      <th>0</th>\n",
       "      <td>258.730125</td>\n",
       "      <td>63.857954</td>\n",
       "      <td>22451.5</td>\n",
       "      <td>10.99510</td>\n",
       "      <td>1.53</td>\n",
       "      <td>-1578.5</td>\n",
       "    </tr>\n",
       "    <tr>\n",
       "      <th>1</th>\n",
       "      <td>258.712174</td>\n",
       "      <td>64.010175</td>\n",
       "      <td>24621.2</td>\n",
       "      <td>5.47387</td>\n",
       "      <td>1.39</td>\n",
       "      <td>591.2</td>\n",
       "    </tr>\n",
       "    <tr>\n",
       "      <th>2</th>\n",
       "      <td>258.750503</td>\n",
       "      <td>64.168843</td>\n",
       "      <td>24003.5</td>\n",
       "      <td>8.65959</td>\n",
       "      <td>1.48</td>\n",
       "      <td>-26.5</td>\n",
       "    </tr>\n",
       "    <tr>\n",
       "      <th>3</th>\n",
       "      <td>258.692810</td>\n",
       "      <td>64.144804</td>\n",
       "      <td>23227.7</td>\n",
       "      <td>4.45424</td>\n",
       "      <td>1.34</td>\n",
       "      <td>-802.3</td>\n",
       "    </tr>\n",
       "    <tr>\n",
       "      <th>4</th>\n",
       "      <td>258.870550</td>\n",
       "      <td>63.892904</td>\n",
       "      <td>23958.3</td>\n",
       "      <td>8.05739</td>\n",
       "      <td>1.82</td>\n",
       "      <td>-71.7</td>\n",
       "    </tr>\n",
       "    <tr>\n",
       "      <th>...</th>\n",
       "      <td>...</td>\n",
       "      <td>...</td>\n",
       "      <td>...</td>\n",
       "      <td>...</td>\n",
       "      <td>...</td>\n",
       "      <td>...</td>\n",
       "    </tr>\n",
       "    <tr>\n",
       "      <th>147</th>\n",
       "      <td>258.771000</td>\n",
       "      <td>64.045063</td>\n",
       "      <td>24176.5</td>\n",
       "      <td>7.13205</td>\n",
       "      <td>1.52</td>\n",
       "      <td>146.5</td>\n",
       "    </tr>\n",
       "    <tr>\n",
       "      <th>148</th>\n",
       "      <td>258.527011</td>\n",
       "      <td>63.790837</td>\n",
       "      <td>22699.3</td>\n",
       "      <td>11.23490</td>\n",
       "      <td>1.18</td>\n",
       "      <td>-1330.7</td>\n",
       "    </tr>\n",
       "    <tr>\n",
       "      <th>149</th>\n",
       "      <td>258.425438</td>\n",
       "      <td>63.779506</td>\n",
       "      <td>24519.9</td>\n",
       "      <td>6.24049</td>\n",
       "      <td>1.02</td>\n",
       "      <td>489.9</td>\n",
       "    </tr>\n",
       "    <tr>\n",
       "      <th>150</th>\n",
       "      <td>258.405275</td>\n",
       "      <td>63.830808</td>\n",
       "      <td>25800.0</td>\n",
       "      <td>6.34327</td>\n",
       "      <td>0.90</td>\n",
       "      <td>1770.0</td>\n",
       "    </tr>\n",
       "    <tr>\n",
       "      <th>151</th>\n",
       "      <td>258.461872</td>\n",
       "      <td>63.747532</td>\n",
       "      <td>23455.0</td>\n",
       "      <td>8.00442</td>\n",
       "      <td>1.13</td>\n",
       "      <td>-575.0</td>\n",
       "    </tr>\n",
       "  </tbody>\n",
       "</table>\n",
       "<p>152 rows × 6 columns</p>\n",
       "</div>"
      ],
      "text/plain": [
       "             ra        dec      vel      evel  dist    dvel\n",
       "0    258.730125  63.857954  22451.5  10.99510  1.53 -1578.5\n",
       "1    258.712174  64.010175  24621.2   5.47387  1.39   591.2\n",
       "2    258.750503  64.168843  24003.5   8.65959  1.48   -26.5\n",
       "3    258.692810  64.144804  23227.7   4.45424  1.34  -802.3\n",
       "4    258.870550  63.892904  23958.3   8.05739  1.82   -71.7\n",
       "..          ...        ...      ...       ...   ...     ...\n",
       "147  258.771000  64.045063  24176.5   7.13205  1.52   146.5\n",
       "148  258.527011  63.790837  22699.3  11.23490  1.18 -1330.7\n",
       "149  258.425438  63.779506  24519.9   6.24049  1.02   489.9\n",
       "150  258.405275  63.830808  25800.0   6.34327  0.90  1770.0\n",
       "151  258.461872  63.747532  23455.0   8.00442  1.13  -575.0\n",
       "\n",
       "[152 rows x 6 columns]"
      ]
     },
     "execution_count": 41,
     "metadata": {},
     "output_type": "execute_result"
    }
   ],
   "source": [
    "data = pd.read_csv(dirr)\n",
    "data"
   ]
  },
  {
   "cell_type": "markdown",
   "id": "69ce1899",
   "metadata": {},
   "source": [
    "La masa mediana está dada por\n",
    "\n",
    "$M_{med} = \\dfrac{f_{me}}{G} \\sum_{i} \\sum_{j} [ (V_{zi} - V_{zj})^2 R_{\\perp, ij} ]$"
   ]
  },
  {
   "cell_type": "code",
   "execution_count": 42,
   "id": "36e5eb7d",
   "metadata": {},
   "outputs": [],
   "source": [
    "#Se toman los datos de interés\n",
    "AR = data.ra* (np.pi/180)        #Radianes\n",
    "DEC = data.dec *(np.pi/180)      #Radianes\n",
    "V = data.vel* 1000          #m/s\n",
    "N = len(AR)"
   ]
  },
  {
   "cell_type": "markdown",
   "id": "262b1d50",
   "metadata": {},
   "source": [
    "Centroide y velocidad media:\n",
    "\n",
    "$r_{av} = \\dfrac{1}{N} \\sum_{i=1}^{N} r_i$"
   ]
  },
  {
   "cell_type": "code",
   "execution_count": 43,
   "id": "93816759",
   "metadata": {},
   "outputs": [
    {
     "name": "stdout",
     "output_type": "stream",
     "text": [
      "Centroide:  [4.506470218665336, 1.118149807474332]\n",
      "Velocidad media: 23987430.92105263\n"
     ]
    }
   ],
   "source": [
    "cent = [sum(AR)/N, sum(DEC)/N]\n",
    "Vm = np.mean(V)\n",
    "print(\"Centroide: \", cent)\n",
    "print(\"Velocidad media:\", Vm)"
   ]
  },
  {
   "cell_type": "markdown",
   "id": "8ecc6eda",
   "metadata": {},
   "source": [
    "Posiciones relativas al centroide:\n",
    "\n",
    "$R_i  = r_i - r_{av}$ "
   ]
  },
  {
   "cell_type": "code",
   "execution_count": 44,
   "id": "5a41c187",
   "metadata": {},
   "outputs": [],
   "source": [
    "#Definimos arreglos, después los llenamos acorde a las posiciones relativas\n",
    "ARrel  = [ ]; DECrel = [ ]; Vrel = [ ]\n",
    "for i in range(N):\n",
    "    ARrel.append(AR[i] - cent[0])\n",
    "    DECrel.append(DEC[i] - cent[1]) \n",
    "    Vrel.append( V[i] - Vm )\n",
    "    \n"
   ]
  },
  {
   "cell_type": "markdown",
   "id": "7c287922",
   "metadata": {},
   "source": [
    "Ahora guardamos la diferencia de distancias angulares relativas\n",
    "\n",
    "$\\theta_{\\perp, ij} = \\theta_{\\perp, i} - \\theta_{\\perp, j}$"
   ]
  },
  {
   "cell_type": "code",
   "execution_count": 45,
   "id": "b707da3e",
   "metadata": {},
   "outputs": [
    {
     "data": {
      "text/plain": [
       "array([[0.        , 0.00267517, 0.00543768, ..., 0.00549122, 0.00568947,\n",
       "        0.00506305],\n",
       "       [0.        , 0.        , 0.00284894, ..., 0.00642284, 0.00620414,\n",
       "        0.00633227],\n",
       "       [0.        , 0.        , 0.        , ..., 0.00885228, 0.00843285,\n",
       "        0.00891334],\n",
       "       ...,\n",
       "       [0.        , 0.        , 0.        , ..., 0.        , 0.00096206,\n",
       "        0.00084604],\n",
       "       [0.        , 0.        , 0.        , ..., 0.        , 0.        ,\n",
       "        0.00175735],\n",
       "       [0.        , 0.        , 0.        , ..., 0.        , 0.        ,\n",
       "        0.        ]])"
      ]
     },
     "execution_count": 45,
     "metadata": {},
     "output_type": "execute_result"
    }
   ],
   "source": [
    "#Diferencia de ángulos\n",
    "thetas = np.zeros((N, N))\n",
    "for i in range(N):\n",
    "    for j in range(i+1, N):\n",
    "        ARdif = ARrel[i] - ARrel[j]   \n",
    "        DECdif = DECrel[i] - DECrel[j]\n",
    "        #print(i, j, ARdif, DECdif)\n",
    "        thetas[i, j] = np.sqrt( ARdif**2 + DECdif**2  )\n",
    "        #print(\"(\",i,\",\", j, \")\", end='\\t')\n",
    "        #print(i==j, end='\\t')\n",
    "\n",
    "thetas\n"
   ]
  },
  {
   "cell_type": "code",
   "execution_count": 46,
   "id": "8bfc9acc",
   "metadata": {},
   "outputs": [
    {
     "name": "stdout",
     "output_type": "stream",
     "text": [
      "23104\n"
     ]
    },
    {
     "data": {
      "text/plain": [
       "144015607075.93665"
      ]
     },
     "execution_count": 46,
     "metadata": {},
     "output_type": "execute_result"
    }
   ],
   "source": [
    "suma = []\n",
    "matriz = np.zeros([N, N])\n",
    "\n",
    "for i in range(N):\n",
    "    for j in range(i+1, N):\n",
    "        #print(\"[V[\",i,\"] - V[\", j,\"]]thetas[\", i, \",\", j,\"]\")\n",
    "        qty = ((Vrel[i] - Vrel[j])**2)*thetas[i, j]\n",
    "        suma.append( qty)\n",
    "        matriz[i, j] = qty\n",
    "Sum = sum(suma)\n",
    "Sum\n",
    "print(len(matriz.flatten()))\n",
    "max (matriz.flatten())\n"
   ]
  },
  {
   "cell_type": "code",
   "execution_count": 47,
   "id": "efc9e406",
   "metadata": {},
   "outputs": [],
   "source": [
    "array = matriz.flatten()\n",
    "array2 = []\n",
    "\n",
    "for i in range( len(array) ):\n",
    "    if array[i] > 0: array2.append(array[i])\n",
    "\n",
    "med = np.mean(array2)"
   ]
  },
  {
   "cell_type": "code",
   "execution_count": 49,
   "id": "2a458628",
   "metadata": {},
   "outputs": [
    {
     "name": "stdout",
     "output_type": "stream",
     "text": [
      "Masa (kg):  4.5564987314629007e+49\n",
      "Masa2 (kg):  3.9708049947389017e+45\n",
      "En masas solares\n",
      "Masa: 2.2907338652973208e+19 M⊙\n",
      "Masa2: 2.00E+15\n"
     ]
    }
   ],
   "source": [
    "f = 6.5\n",
    "\n",
    "M = f*Sum*D/G\n",
    "M2 = f*med*D/G\n",
    "print(\"Masa (kg): \", M)\n",
    "print(\"Masa2 (kg): \", M2)\n",
    "\n",
    "\n",
    "print(\"En masas solares\")\n",
    "print(\"Masa:\" , M/MS, \"M⊙\")\n",
    "print(\"Masa2: {:.2E}\".format(M2/MS))\n",
    "\n"
   ]
  },
  {
   "cell_type": "code",
   "execution_count": null,
   "id": "50ff3506",
   "metadata": {},
   "outputs": [],
   "source": []
  },
  {
   "cell_type": "code",
   "execution_count": null,
   "id": "596a26df",
   "metadata": {},
   "outputs": [],
   "source": []
  },
  {
   "cell_type": "code",
   "execution_count": null,
   "id": "af497c84",
   "metadata": {},
   "outputs": [],
   "source": []
  }
 ],
 "metadata": {
  "kernelspec": {
   "display_name": "Python 3 (ipykernel)",
   "language": "python",
   "name": "python3"
  },
  "language_info": {
   "codemirror_mode": {
    "name": "ipython",
    "version": 3
   },
   "file_extension": ".py",
   "mimetype": "text/x-python",
   "name": "python",
   "nbconvert_exporter": "python",
   "pygments_lexer": "ipython3",
   "version": "3.10.4"
  }
 },
 "nbformat": 4,
 "nbformat_minor": 5
}
